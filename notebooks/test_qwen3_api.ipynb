{
 "cells": [
  {
   "cell_type": "code",
   "execution_count": 2,
   "id": "ed7dc1c1",
   "metadata": {},
   "outputs": [],
   "source": [
    "import requests\n",
    "import numpy as np"
   ]
  },
  {
   "cell_type": "code",
   "execution_count": 3,
   "id": "9791786e",
   "metadata": {},
   "outputs": [],
   "source": [
    "english_text = {\"texts\": [\"Hello world!\"], \"instruction\": \"Test\"}"
   ]
  },
  {
   "cell_type": "code",
   "execution_count": 5,
   "id": "d7442763",
   "metadata": {},
   "outputs": [],
   "source": [
    "response = requests.post(\"http://localhost:8000/embed_text\", json=english_text)\n",
    "response.raise_for_status()"
   ]
  },
  {
   "cell_type": "code",
   "execution_count": 6,
   "id": "7092ebf9",
   "metadata": {},
   "outputs": [
    {
     "data": {
      "text/plain": [
       "(1, 1024)"
      ]
     },
     "execution_count": 6,
     "metadata": {},
     "output_type": "execute_result"
    }
   ],
   "source": [
    "output = response.json()\n",
    "output_np = np.array(output)\n",
    "output_np.shape"
   ]
  },
  {
   "cell_type": "code",
   "execution_count": 7,
   "id": "47cf08b3",
   "metadata": {},
   "outputs": [
    {
     "data": {
      "text/plain": [
       "array([[-0.98632812,  0.15075684, -0.87988281, ...,  0.69091797,\n",
       "        -3.61328125, -0.36303711]], shape=(1, 1024))"
      ]
     },
     "execution_count": 7,
     "metadata": {},
     "output_type": "execute_result"
    }
   ],
   "source": [
    "output_np"
   ]
  }
 ],
 "metadata": {
  "kernelspec": {
   "display_name": "ray-embeddings-test",
   "language": "python",
   "name": "python3"
  },
  "language_info": {
   "codemirror_mode": {
    "name": "ipython",
    "version": 3
   },
   "file_extension": ".py",
   "mimetype": "text/x-python",
   "name": "python",
   "nbconvert_exporter": "python",
   "pygments_lexer": "ipython3",
   "version": "3.13.4"
  }
 },
 "nbformat": 4,
 "nbformat_minor": 5
}
