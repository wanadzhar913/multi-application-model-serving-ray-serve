{
 "cells": [
  {
   "cell_type": "code",
   "execution_count": 1,
   "id": "f78db2d8",
   "metadata": {},
   "outputs": [],
   "source": [
    "from typing import List, Optional\n",
    "\n",
    "import torch\n",
    "from torch import Tensor\n",
    "\n",
    "import numpy as np\n",
    "from transformers import AutoTokenizer, AutoModel"
   ]
  },
  {
   "cell_type": "code",
   "execution_count": 2,
   "id": "b2dc2dc3",
   "metadata": {},
   "outputs": [],
   "source": [
    "class Qwen3TextEmbedding:\n",
    "    \"\"\"A class for generating text embeddings using the Qwen3 model.\"\"\"\n",
    "    def __init__(\n",
    "            self,\n",
    "            model_name: str = 'Qwen/Qwen3-Embedding-0.6B',\n",
    "            max_length: int = 8192,\n",
    "        ):\n",
    "        self.tokenizer = AutoTokenizer.from_pretrained(\n",
    "            model_name,\n",
    "            padding_side='left'\n",
    "        )\n",
    "        self.model = AutoModel.from_pretrained(\n",
    "            model_name,\n",
    "            attn_implementation=\"flash_attention_2\",\n",
    "            torch_dtype=torch.float16,\n",
    "        ).cuda()\n",
    "        self.max_length = max_length\n",
    "\n",
    "    @staticmethod\n",
    "    def _last_token_pool(\n",
    "        last_hidden_states: Tensor,\n",
    "        attention_mask: Tensor,\n",
    "    ) -> Tensor:\n",
    "        \"\"\"Pools the last token representation, handling both left and right padding.\"\"\"\n",
    "        left_padding = (attention_mask[:, -1].sum() == attention_mask.shape[0])\n",
    "        if left_padding:\n",
    "            return last_hidden_states[:, -1]\n",
    "        sequence_lengths = attention_mask.sum(dim=1) - 1\n",
    "        batch_size = last_hidden_states.shape[0]\n",
    "        return last_hidden_states[\n",
    "            torch.arange(batch_size, device=last_hidden_states.device),\n",
    "            sequence_lengths\n",
    "        ]\n",
    "\n",
    "    @staticmethod\n",
    "    def _get_detailed_instruct(task_description: str, query: str) -> str:\n",
    "        \"\"\"Formats a query with a given task description.\"\"\"\n",
    "        return f'Instruct: {task_description}\\nQuery: {query}'\n",
    "\n",
    "    def embed(\n",
    "            self,\n",
    "            texts: List[str],\n",
    "            instruction: Optional[str] = None,\n",
    "            return_numpy: bool = True\n",
    "        ):\n",
    "        \"\"\"\n",
    "        Generates normalized embeddings for input text(s).\n",
    "\n",
    "        Args:\n",
    "            texts: A list of strings to embed.\n",
    "            instruction: Optional task instruction for formatting queries.\n",
    "            return_numpy: Whether to return numpy array (True) or Python lists (False).\n",
    "\n",
    "        Returns:\n",
    "            Embeddings as np.ndarray or list of lists.\n",
    "        \"\"\"\n",
    "        if instruction:\n",
    "            texts = [self._get_detailed_instruct(instruction, text) for text in texts]\n",
    "\n",
    "        batch_dict = self.tokenizer(\n",
    "            texts,\n",
    "            padding=True,\n",
    "            truncation=True,\n",
    "            max_length=self.max_length,\n",
    "            return_tensors=\"pt\"\n",
    "        ).to(self.model.device)\n",
    "\n",
    "        outputs = self.model(**batch_dict)\n",
    "        embeddings = self._last_token_pool(\n",
    "            outputs.last_hidden_state, batch_dict['attention_mask']\n",
    "        ).detach().cpu().numpy()\n",
    "\n",
    "        if return_numpy:\n",
    "            return embeddings\n",
    "        return embeddings.tolist()"
   ]
  },
  {
   "cell_type": "code",
   "execution_count": 3,
   "id": "0b20a787",
   "metadata": {},
   "outputs": [],
   "source": [
    "# ---- Test run ----\n",
    "english_text = {\"texts\": [\"Hello world!\"], \"instruction\": \"Test\"}"
   ]
  },
  {
   "cell_type": "code",
   "execution_count": 4,
   "id": "bf2dfb47",
   "metadata": {},
   "outputs": [
    {
     "name": "stderr",
     "output_type": "stream",
     "text": [
      "You are attempting to use Flash Attention 2.0 with a model not initialized on GPU. Make sure to move the model to GPU after initializing it on CPU with `model.to('cuda')`.\n"
     ]
    }
   ],
   "source": [
    "# Instantiate the embedding model\n",
    "embedder = Qwen3TextEmbedding()"
   ]
  },
  {
   "cell_type": "code",
   "execution_count": 5,
   "id": "a64f3666",
   "metadata": {},
   "outputs": [
    {
     "name": "stdout",
     "output_type": "stream",
     "text": [
      "Model is on device: cuda:0\n",
      "Embedding shape: (1, 1024)\n",
      "Embedding (first 5 values): [-0.9863  0.1508 -0.88   -7.734   0.0977]\n"
     ]
    }
   ],
   "source": [
    "print(\"Model is on device:\", embedder.model.device)\n",
    "\n",
    "# Run inference\n",
    "embeddings = embedder.embed(**english_text, return_numpy=True)\n",
    "\n",
    "print(\"Embedding shape:\", embeddings.shape)\n",
    "print(\"Embedding (first 5 values):\", embeddings[0][:5])"
   ]
  },
  {
   "cell_type": "code",
   "execution_count": 6,
   "id": "a5544895",
   "metadata": {},
   "outputs": [
    {
     "data": {
      "text/plain": [
       "numpy.ndarray"
      ]
     },
     "execution_count": 6,
     "metadata": {},
     "output_type": "execute_result"
    }
   ],
   "source": [
    "type(embeddings)"
   ]
  },
  {
   "cell_type": "code",
   "execution_count": 7,
   "id": "77f540fc",
   "metadata": {},
   "outputs": [
    {
     "data": {
      "text/plain": [
       "numpy.float16"
      ]
     },
     "execution_count": 7,
     "metadata": {},
     "output_type": "execute_result"
    }
   ],
   "source": [
    "type(embeddings[0][0])"
   ]
  }
 ],
 "metadata": {
  "kernelspec": {
   "display_name": "ray-embeddings-test",
   "language": "python",
   "name": "python3"
  },
  "language_info": {
   "codemirror_mode": {
    "name": "ipython",
    "version": 3
   },
   "file_extension": ".py",
   "mimetype": "text/x-python",
   "name": "python",
   "nbconvert_exporter": "python",
   "pygments_lexer": "ipython3",
   "version": "3.13.4"
  }
 },
 "nbformat": 4,
 "nbformat_minor": 5
}
